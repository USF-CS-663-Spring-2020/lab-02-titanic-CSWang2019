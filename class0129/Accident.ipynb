{
 "cells": [
  {
   "cell_type": "code",
   "execution_count": 5,
   "metadata": {},
   "outputs": [
    {
     "data": {
      "text/html": [
       "<div>\n",
       "<style scoped>\n",
       "    .dataframe tbody tr th:only-of-type {\n",
       "        vertical-align: middle;\n",
       "    }\n",
       "\n",
       "    .dataframe tbody tr th {\n",
       "        vertical-align: top;\n",
       "    }\n",
       "\n",
       "    .dataframe thead th {\n",
       "        text-align: right;\n",
       "    }\n",
       "</style>\n",
       "<table border=\"1\" class=\"dataframe\">\n",
       "  <thead>\n",
       "    <tr style=\"text-align: right;\">\n",
       "      <th></th>\n",
       "      <th>STATE</th>\n",
       "      <th>ST_CASE</th>\n",
       "      <th>VE_TOTAL</th>\n",
       "      <th>VE_FORMS</th>\n",
       "      <th>PVH_INVL</th>\n",
       "      <th>PEDS</th>\n",
       "      <th>PERNOTMVIT</th>\n",
       "      <th>PERMVIT</th>\n",
       "      <th>PERSONS</th>\n",
       "      <th>COUNTY</th>\n",
       "      <th>...</th>\n",
       "      <th>NOT_MIN</th>\n",
       "      <th>ARR_HOUR</th>\n",
       "      <th>ARR_MIN</th>\n",
       "      <th>HOSP_HR</th>\n",
       "      <th>HOSP_MN</th>\n",
       "      <th>CF1</th>\n",
       "      <th>CF2</th>\n",
       "      <th>CF3</th>\n",
       "      <th>FATALS</th>\n",
       "      <th>DRUNK_DR</th>\n",
       "    </tr>\n",
       "  </thead>\n",
       "  <tbody>\n",
       "    <tr>\n",
       "      <th>count</th>\n",
       "      <td>33654.000000</td>\n",
       "      <td>33654.000000</td>\n",
       "      <td>33654.000000</td>\n",
       "      <td>33654.000000</td>\n",
       "      <td>33654.000000</td>\n",
       "      <td>33654.000000</td>\n",
       "      <td>33654.000000</td>\n",
       "      <td>33654.000000</td>\n",
       "      <td>33654.000000</td>\n",
       "      <td>33654.000000</td>\n",
       "      <td>...</td>\n",
       "      <td>33654.000000</td>\n",
       "      <td>33654.000000</td>\n",
       "      <td>33654.000000</td>\n",
       "      <td>33654.000000</td>\n",
       "      <td>33654.000000</td>\n",
       "      <td>33654.000000</td>\n",
       "      <td>33654.000000</td>\n",
       "      <td>33654.000000</td>\n",
       "      <td>33654.000000</td>\n",
       "      <td>33654.000000</td>\n",
       "    </tr>\n",
       "    <tr>\n",
       "      <th>mean</th>\n",
       "      <td>27.221727</td>\n",
       "      <td>272959.565074</td>\n",
       "      <td>1.580258</td>\n",
       "      <td>1.541332</td>\n",
       "      <td>0.038926</td>\n",
       "      <td>0.231830</td>\n",
       "      <td>0.243359</td>\n",
       "      <td>2.241517</td>\n",
       "      <td>2.253046</td>\n",
       "      <td>91.763238</td>\n",
       "      <td>...</td>\n",
       "      <td>67.332442</td>\n",
       "      <td>59.749510</td>\n",
       "      <td>67.141915</td>\n",
       "      <td>73.812979</td>\n",
       "      <td>77.751798</td>\n",
       "      <td>2.151958</td>\n",
       "      <td>1.069204</td>\n",
       "      <td>0.957717</td>\n",
       "      <td>1.086349</td>\n",
       "      <td>0.256849</td>\n",
       "    </tr>\n",
       "    <tr>\n",
       "      <th>std</th>\n",
       "      <td>16.397000</td>\n",
       "      <td>163875.616648</td>\n",
       "      <td>0.823660</td>\n",
       "      <td>0.776784</td>\n",
       "      <td>0.302969</td>\n",
       "      <td>0.476945</td>\n",
       "      <td>0.506895</td>\n",
       "      <td>1.804314</td>\n",
       "      <td>1.809363</td>\n",
       "      <td>97.588969</td>\n",
       "      <td>...</td>\n",
       "      <td>36.303949</td>\n",
       "      <td>42.862942</td>\n",
       "      <td>36.368152</td>\n",
       "      <td>35.317922</td>\n",
       "      <td>29.735309</td>\n",
       "      <td>10.610611</td>\n",
       "      <td>9.760143</td>\n",
       "      <td>9.647763</td>\n",
       "      <td>0.359572</td>\n",
       "      <td>0.454830</td>\n",
       "    </tr>\n",
       "    <tr>\n",
       "      <th>min</th>\n",
       "      <td>1.000000</td>\n",
       "      <td>10001.000000</td>\n",
       "      <td>1.000000</td>\n",
       "      <td>1.000000</td>\n",
       "      <td>0.000000</td>\n",
       "      <td>0.000000</td>\n",
       "      <td>0.000000</td>\n",
       "      <td>0.000000</td>\n",
       "      <td>0.000000</td>\n",
       "      <td>1.000000</td>\n",
       "      <td>...</td>\n",
       "      <td>0.000000</td>\n",
       "      <td>0.000000</td>\n",
       "      <td>0.000000</td>\n",
       "      <td>0.000000</td>\n",
       "      <td>0.000000</td>\n",
       "      <td>0.000000</td>\n",
       "      <td>0.000000</td>\n",
       "      <td>0.000000</td>\n",
       "      <td>1.000000</td>\n",
       "      <td>0.000000</td>\n",
       "    </tr>\n",
       "    <tr>\n",
       "      <th>25%</th>\n",
       "      <td>12.000000</td>\n",
       "      <td>121958.250000</td>\n",
       "      <td>1.000000</td>\n",
       "      <td>1.000000</td>\n",
       "      <td>0.000000</td>\n",
       "      <td>0.000000</td>\n",
       "      <td>0.000000</td>\n",
       "      <td>1.000000</td>\n",
       "      <td>1.000000</td>\n",
       "      <td>31.000000</td>\n",
       "      <td>...</td>\n",
       "      <td>33.000000</td>\n",
       "      <td>15.000000</td>\n",
       "      <td>33.000000</td>\n",
       "      <td>88.000000</td>\n",
       "      <td>88.000000</td>\n",
       "      <td>0.000000</td>\n",
       "      <td>0.000000</td>\n",
       "      <td>0.000000</td>\n",
       "      <td>1.000000</td>\n",
       "      <td>0.000000</td>\n",
       "    </tr>\n",
       "    <tr>\n",
       "      <th>50%</th>\n",
       "      <td>26.000000</td>\n",
       "      <td>260901.500000</td>\n",
       "      <td>1.000000</td>\n",
       "      <td>1.000000</td>\n",
       "      <td>0.000000</td>\n",
       "      <td>0.000000</td>\n",
       "      <td>0.000000</td>\n",
       "      <td>2.000000</td>\n",
       "      <td>2.000000</td>\n",
       "      <td>71.000000</td>\n",
       "      <td>...</td>\n",
       "      <td>98.000000</td>\n",
       "      <td>99.000000</td>\n",
       "      <td>98.000000</td>\n",
       "      <td>88.000000</td>\n",
       "      <td>88.000000</td>\n",
       "      <td>0.000000</td>\n",
       "      <td>0.000000</td>\n",
       "      <td>0.000000</td>\n",
       "      <td>1.000000</td>\n",
       "      <td>0.000000</td>\n",
       "    </tr>\n",
       "    <tr>\n",
       "      <th>75%</th>\n",
       "      <td>42.000000</td>\n",
       "      <td>420571.750000</td>\n",
       "      <td>2.000000</td>\n",
       "      <td>2.000000</td>\n",
       "      <td>0.000000</td>\n",
       "      <td>0.000000</td>\n",
       "      <td>0.000000</td>\n",
       "      <td>3.000000</td>\n",
       "      <td>3.000000</td>\n",
       "      <td>115.000000</td>\n",
       "      <td>...</td>\n",
       "      <td>99.000000</td>\n",
       "      <td>99.000000</td>\n",
       "      <td>99.000000</td>\n",
       "      <td>99.000000</td>\n",
       "      <td>99.000000</td>\n",
       "      <td>0.000000</td>\n",
       "      <td>0.000000</td>\n",
       "      <td>0.000000</td>\n",
       "      <td>1.000000</td>\n",
       "      <td>0.000000</td>\n",
       "    </tr>\n",
       "    <tr>\n",
       "      <th>max</th>\n",
       "      <td>56.000000</td>\n",
       "      <td>560101.000000</td>\n",
       "      <td>27.000000</td>\n",
       "      <td>27.000000</td>\n",
       "      <td>20.000000</td>\n",
       "      <td>10.000000</td>\n",
       "      <td>10.000000</td>\n",
       "      <td>47.000000</td>\n",
       "      <td>47.000000</td>\n",
       "      <td>999.000000</td>\n",
       "      <td>...</td>\n",
       "      <td>99.000000</td>\n",
       "      <td>99.000000</td>\n",
       "      <td>99.000000</td>\n",
       "      <td>99.000000</td>\n",
       "      <td>99.000000</td>\n",
       "      <td>99.000000</td>\n",
       "      <td>99.000000</td>\n",
       "      <td>99.000000</td>\n",
       "      <td>20.000000</td>\n",
       "      <td>4.000000</td>\n",
       "    </tr>\n",
       "  </tbody>\n",
       "</table>\n",
       "<p>8 rows × 49 columns</p>\n",
       "</div>"
      ],
      "text/plain": [
       "              STATE        ST_CASE      VE_TOTAL      VE_FORMS      PVH_INVL  \\\n",
       "count  33654.000000   33654.000000  33654.000000  33654.000000  33654.000000   \n",
       "mean      27.221727  272959.565074      1.580258      1.541332      0.038926   \n",
       "std       16.397000  163875.616648      0.823660      0.776784      0.302969   \n",
       "min        1.000000   10001.000000      1.000000      1.000000      0.000000   \n",
       "25%       12.000000  121958.250000      1.000000      1.000000      0.000000   \n",
       "50%       26.000000  260901.500000      1.000000      1.000000      0.000000   \n",
       "75%       42.000000  420571.750000      2.000000      2.000000      0.000000   \n",
       "max       56.000000  560101.000000     27.000000     27.000000     20.000000   \n",
       "\n",
       "               PEDS    PERNOTMVIT       PERMVIT       PERSONS        COUNTY  \\\n",
       "count  33654.000000  33654.000000  33654.000000  33654.000000  33654.000000   \n",
       "mean       0.231830      0.243359      2.241517      2.253046     91.763238   \n",
       "std        0.476945      0.506895      1.804314      1.809363     97.588969   \n",
       "min        0.000000      0.000000      0.000000      0.000000      1.000000   \n",
       "25%        0.000000      0.000000      1.000000      1.000000     31.000000   \n",
       "50%        0.000000      0.000000      2.000000      2.000000     71.000000   \n",
       "75%        0.000000      0.000000      3.000000      3.000000    115.000000   \n",
       "max       10.000000     10.000000     47.000000     47.000000    999.000000   \n",
       "\n",
       "       ...       NOT_MIN      ARR_HOUR       ARR_MIN       HOSP_HR  \\\n",
       "count  ...  33654.000000  33654.000000  33654.000000  33654.000000   \n",
       "mean   ...     67.332442     59.749510     67.141915     73.812979   \n",
       "std    ...     36.303949     42.862942     36.368152     35.317922   \n",
       "min    ...      0.000000      0.000000      0.000000      0.000000   \n",
       "25%    ...     33.000000     15.000000     33.000000     88.000000   \n",
       "50%    ...     98.000000     99.000000     98.000000     88.000000   \n",
       "75%    ...     99.000000     99.000000     99.000000     99.000000   \n",
       "max    ...     99.000000     99.000000     99.000000     99.000000   \n",
       "\n",
       "            HOSP_MN           CF1           CF2           CF3        FATALS  \\\n",
       "count  33654.000000  33654.000000  33654.000000  33654.000000  33654.000000   \n",
       "mean      77.751798      2.151958      1.069204      0.957717      1.086349   \n",
       "std       29.735309     10.610611      9.760143      9.647763      0.359572   \n",
       "min        0.000000      0.000000      0.000000      0.000000      1.000000   \n",
       "25%       88.000000      0.000000      0.000000      0.000000      1.000000   \n",
       "50%       88.000000      0.000000      0.000000      0.000000      1.000000   \n",
       "75%       99.000000      0.000000      0.000000      0.000000      1.000000   \n",
       "max       99.000000     99.000000     99.000000     99.000000     20.000000   \n",
       "\n",
       "           DRUNK_DR  \n",
       "count  33654.000000  \n",
       "mean       0.256849  \n",
       "std        0.454830  \n",
       "min        0.000000  \n",
       "25%        0.000000  \n",
       "50%        0.000000  \n",
       "75%        0.000000  \n",
       "max        4.000000  \n",
       "\n",
       "[8 rows x 49 columns]"
      ]
     },
     "execution_count": 5,
     "metadata": {},
     "output_type": "execute_result"
    }
   ],
   "source": [
    "import pandas as pd\n",
    "df = pd.read_csv('Accident.csv')\n",
    "df.describe()"
   ]
  },
  {
   "cell_type": "code",
   "execution_count": 8,
   "metadata": {},
   "outputs": [
    {
     "data": {
      "text/plain": [
       "[1, 2, 3, 4, 5, 6, 7]"
      ]
     },
     "execution_count": 8,
     "metadata": {},
     "output_type": "execute_result"
    }
   ],
   "source": [
    "sorted(df['DAY_WEEK'].unique())"
   ]
  },
  {
   "cell_type": "code",
   "execution_count": 9,
   "metadata": {},
   "outputs": [
    {
     "data": {
      "text/plain": [
       "7    5794\n",
       "6    5169\n",
       "1    5053\n",
       "2    4564\n",
       "5    4499\n",
       "3    4290\n",
       "4    4285\n",
       "Name: DAY_WEEK, dtype: int64"
      ]
     },
     "execution_count": 9,
     "metadata": {},
     "output_type": "execute_result"
    }
   ],
   "source": [
    "df.DAY_WEEK.value_counts()"
   ]
  },
  {
   "cell_type": "code",
   "execution_count": 11,
   "metadata": {},
   "outputs": [
    {
     "data": {
      "text/plain": [
       "<matplotlib.axes._subplots.AxesSubplot at 0x11b39f7b8>"
      ]
     },
     "execution_count": 11,
     "metadata": {},
     "output_type": "execute_result"
    },
    {
     "data": {
      "image/png": "[encoded data removed]",
      "text/plain": [
       "<Figure size 432x288 with 1 Axes>"
      ]
     },
     "metadata": {
      "needs_background": "light"
     },
     "output_type": "display_data"
    }
   ],
   "source": [
    "import matplotlib.pyplot as plt\n",
    "import seaborn as sns\n",
    "%matplotlib inline\n",
    "\n",
    "sns.countplot(x = df['DAY_WEEK'], data = df) #shorter way, since we already pass the df. -Kunal "
   ]
  },
  {
   "cell_type": "code",
   "execution_count": 15,
   "metadata": {},
   "outputs": [
    {
     "data": {
      "text/plain": [
       "<matplotlib.axes._subplots.AxesSubplot at 0x11c566198>"
      ]
     },
     "execution_count": 15,
     "metadata": {},
     "output_type": "execute_result"
    },
    {
     "data": {
      "image/png": "[encoded data removed]",
      "text/plain": [
       "<Figure size 432x288 with 1 Axes>"
      ]
     },
     "metadata": {
      "needs_background": "light"
     },
     "output_type": "display_data"
    }
   ],
   "source": [
    "sns.countplot(x = df['STATE'], data = df)"
   ]
  },
  {
   "cell_type": "code",
   "execution_count": 16,
   "metadata": {},
   "outputs": [
    {
     "data": {
      "text/plain": [
       "<matplotlib.axes._subplots.AxesSubplot at 0x11c6d3208>"
      ]
     },
     "execution_count": 16,
     "metadata": {},
     "output_type": "execute_result"
    },
    {
     "data": {
      "image/png": "[encoded data removed]",
      "text/plain": [
       "<Figure size 432x288 with 1 Axes>"
      ]
     },
     "metadata": {
      "needs_background": "light"
     },
     "output_type": "display_data"
    }
   ],
   "source": [
    "sns.countplot(x='STATE',hue = 'DAY_WEEK',data = df)"
   ]
  },
  {
   "cell_type": "code",
   "execution_count": null,
   "metadata": {},
   "outputs": [],
   "source": []
  }
 ],
 "metadata": {
  "kernelspec": {
   "display_name": "Python 3",
   "language": "python",
   "name": "python3"
  },
  "language_info": {
   "codemirror_mode": {
    "name": "ipython",
    "version": 3
   },
   "file_extension": ".py",
   "mimetype": "text/x-python",
   "name": "python",
   "nbconvert_exporter": "python",
   "pygments_lexer": "ipython3",
   "version": "3.6.7"
  }
 },
 "nbformat": 4,
 "nbformat_minor": 2
}
